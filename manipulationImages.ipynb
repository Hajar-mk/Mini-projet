{
 "cells": [
  {
   "cell_type": "markdown",
   "id": "7bd02104",
   "metadata": {},
   "source": [
    "# Manipulation des images"
   ]
  },
  {
   "cell_type": "markdown",
   "id": "71b3d1a1",
   "metadata": {},
   "source": [
    "Ce programme utilise la bibliothèque Tkinter pour créer une fenêtre avec des contrôles tels que des curseurs (scales) pour les taux de rouge, vert et bleu, ainsi que des boutons pour charger et enregistrer \n",
    "l'image. Lorsque vous chargez une image, elle est affichée à la fois dans sa version originale et modifiée. Les modifications sont appliquées en utilisant la méthode `Image.merge()` de la bibliothèque PIL."
   ]
  },
  {
   "cell_type": "code",
   "execution_count": 1,
   "id": "6a4ea3fb",
   "metadata": {},
   "outputs": [],
   "source": [
    "import tkinter as tk\n",
    "from tkinter import filedialog\n",
    "from PIL import Image, ImageTk\n",
    "\n",
    "class ImageEditor(tk.Tk):\n",
    "    def __init__(self):\n",
    "        tk.Tk.__init__(self)\n",
    "        self.title(\"Editeur d'Image\")\n",
    "        \n",
    "        self.image_path = None\n",
    "        self.original_image = None\n",
    "        self.modified_image = None\n",
    "        \n",
    "        self.red_scale = tk.Scale(self, from_=0, to=255, orient=tk.HORIZONTAL, label=\"Rouge\", command=self.update_image)\n",
    "        self.red_scale.pack()\n",
    "        \n",
    "        self.green_scale = tk.Scale(self, from_=0, to=255, orient=tk.HORIZONTAL, label=\"Vert\", command=self.update_image)\n",
    "        self.green_scale.pack()\n",
    "        \n",
    "        self.blue_scale = tk.Scale(self, from_=0, to=255, orient=tk.HORIZONTAL, label=\"Bleu\", command=self.update_image)\n",
    "        self.blue_scale.pack()\n",
    "        \n",
    "        self.load_button = tk.Button(self, text=\"Charger\", command=self.load_image)\n",
    "        self.load_button.pack()\n",
    "        \n",
    "        self.save_button = tk.Button(self, text=\"Enregistrer\", command=self.save_image)\n",
    "        self.save_button.pack()\n",
    "        \n",
    "        self.original_image_label = tk.Label(self)\n",
    "        self.original_image_label.pack()\n",
    "        \n",
    "        self.modified_image_label = tk.Label(self)\n",
    "        self.modified_image_label.pack()\n",
    "    \n",
    "    def load_image(self):\n",
    "        self.image_path = filedialog.askopenfilename(filetypes=((\"Fichiers images\", \"*.jpg;*.jpeg;*.png\"), (\"Tous les fichiers\", \"*.*\")))\n",
    "        if self.image_path:\n",
    "            self.original_image = Image.open(self.image_path)\n",
    "            self.modified_image = self.original_image.copy()\n",
    "            self.update_image()\n",
    "    \n",
    "    def save_image(self):\n",
    "        if self.modified_image:\n",
    "            save_path = filedialog.asksaveasfilename(defaultextension=\".png\", filetypes=((\"Fichier PNG\", \"*.png\"), (\"Tous les fichiers\", \"*.*\")))\n",
    "            if save_path:\n",
    "                self.modified_image.save(save_path)\n",
    "    \n",
    "    def update_image(self, event=None):\n",
    "        if self.original_image:\n",
    "            red = self.red_scale.get()\n",
    "            green = self.green_scale.get()\n",
    "            blue = self.blue_scale.get()\n",
    "            self.modified_image = Image.merge(\"RGB\", (self.original_image.split()[0], self.original_image.split()[1].point(lambda _: green), self.original_image.split()[2].point(lambda _: blue)))\n",
    "            \n",
    "            # Affichage de l'image originale\n",
    "            original_image_resized = self.original_image.resize((400, 400))\n",
    "            original_image_tk = ImageTk.PhotoImage(original_image_resized)\n",
    "            self.original_image_label.configure(image=original_image_tk)\n",
    "            self.original_image_label.image = original_image_tk\n",
    "            \n",
    "            # Affichage de l'image modifiée\n",
    "            modified_image_resized = self.modified_image.resize((400, 400))\n",
    "            modified_image_tk = ImageTk.PhotoImage(modified_image_resized)\n",
    "            self.modified_image_label.configure(image=modified_image_tk)\n",
    "            self.modified_image_label.image = modified_image_tk\n",
    "\n",
    "if __name__ == \"__main__\":\n",
    "    app = ImageEditor()\n",
    "    app.mainloop()"
   ]
  },
  {
   "cell_type": "code",
   "execution_count": null,
   "id": "6c7db716",
   "metadata": {},
   "outputs": [],
   "source": []
  }
 ],
 "metadata": {
  "kernelspec": {
   "display_name": "Python 3 (ipykernel)",
   "language": "python",
   "name": "python3"
  },
  "language_info": {
   "codemirror_mode": {
    "name": "ipython",
    "version": 3
   },
   "file_extension": ".py",
   "mimetype": "text/x-python",
   "name": "python",
   "nbconvert_exporter": "python",
   "pygments_lexer": "ipython3",
   "version": "3.11.5"
  }
 },
 "nbformat": 4,
 "nbformat_minor": 5
}
