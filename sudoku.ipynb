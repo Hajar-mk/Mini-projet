{
 "cells": [
  {
   "cell_type": "markdown",
   "id": "151096bc",
   "metadata": {},
   "source": [
    "# Détermination  si un tableau Sudoku de dimension 9x9 est valide :\n"
   ]
  },
  {
   "cell_type": "code",
   "execution_count": 2,
   "id": "89fc8448",
   "metadata": {},
   "outputs": [
    {
     "name": "stdout",
     "output_type": "stream",
     "text": [
      "La grille Sudoku est valide.\n"
     ]
    }
   ],
   "source": [
    "def est_valide_sudoku(grille):\n",
    "    # Vérifier les lignes\n",
    "    for ligne in grille:\n",
    "        if pas_valeurs_uniques(ligne):\n",
    "            return False\n",
    "\n",
    "    # Vérifier les colonnes\n",
    "    for colonne in range(9):\n",
    "        if pas_valeurs_uniques([grille[ligne][colonne] for ligne in \n",
    "range(9)]):\n",
    "            return False\n",
    "\n",
    "    # Vérifier les sous-grilles 3x3\n",
    "    for i in range(0, 9, 3):\n",
    "        for j in range(0, 9, 3):\n",
    "            sous_grille = [grille[x][y] for x in range(i, i+3) for y in range(j, j+3)]\n",
    "            if pas_valeurs_uniques(sous_grille):\n",
    "                return False\n",
    "\n",
    "    # Si toutes les vérifications ont réussi, la grille est valide\n",
    "    return True\n",
    "\n",
    "def pas_valeurs_uniques(liste):\n",
    "    # Vérifier si une liste contient des valeurs uniques, à l'exception des zéros\n",
    "    valeurs = [valeur for valeur in liste if valeur != 0]\n",
    "    return len(valeurs) != len(set(valeurs))\n",
    "\n",
    "# Exemple de grille Sudoku valide\n",
    "grille_valide = [\n",
    "    [5, 3, 0, 0, 7, 0, 0, 0, 0],\n",
    "    [6, 0, 0, 1, 9, 5, 0, 0, 0],\n",
    "    [0, 9, 8, 0, 0, 0, 0, 6, 0],\n",
    "    [8, 0, 0, 0, 6, 0, 0, 0, 3],\n",
    "    [4, 0, 0, 8, 0, 3, 0, 0, 1],\n",
    "    [7, 0, 0, 0, 2, 0, 0, 0, 4],\n",
    "    [0, 6, 0, 0, 0, 0, 2, 8, 0],\n",
    "    [0, 0, 0, 4, 1, 9, 0, 0, 5],\n",
    "    [0, 0, 0, 0, 8, 0, 0, 7, 9]\n",
    "]\n",
    "\n",
    "# Vérifier si la grille est valide\n",
    "if est_valide_sudoku(grille_valide):\n",
    "    print(\"La grille Sudoku est valide.\")\n",
    "else:\n",
    "    print(\"La grille Sudoku n'est pas valide.\")"
   ]
  },
  {
   "cell_type": "code",
   "execution_count": null,
   "id": "ffab8938",
   "metadata": {},
   "outputs": [],
   "source": []
  }
 ],
 "metadata": {
  "kernelspec": {
   "display_name": "Python 3 (ipykernel)",
   "language": "python",
   "name": "python3"
  },
  "language_info": {
   "codemirror_mode": {
    "name": "ipython",
    "version": 3
   },
   "file_extension": ".py",
   "mimetype": "text/x-python",
   "name": "python",
   "nbconvert_exporter": "python",
   "pygments_lexer": "ipython3",
   "version": "3.11.5"
  }
 },
 "nbformat": 4,
 "nbformat_minor": 5
}
